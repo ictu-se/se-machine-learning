{
 "cells": [
  {
   "cell_type": "markdown",
   "id": "a1b2c3d4",
   "metadata": {},
   "source": [
    "# 📘 Lesson 12 — Transfer Learning: Using Pre-trained Models\n",
    "\n",
    "---\n",
    "\n",
    "### 🎯 Why this lesson matters\n",
    "Training from scratch requires huge data and compute.  \n",
    "**Transfer learning** uses pre-trained models (e.g., on ImageNet) as starting point.  \n",
    "\n",
    "👉 Save time/resources, achieve high accuracy with small data.  \n",
    "Common in vision (ResNet) and NLP (BERT).  \n",
    "\n",
    "We’ll adapt a pre-trained CNN for a new task and see WHY it works.\n"
   ]
  },
  {
   "cell_type": "code",
   "execution_count": 1,
   "id": "b3c4d5e6",
   "metadata": {},
   "outputs": [],
   "source": [
    "# Setup\n",
    "import torch\n",
    "import torch.nn as nn\n",
    "import torch.optim as optim\n",
    "from torch.utils.data import DataLoader\n",
    "import torchvision\n",
    "import torchvision.transforms as transforms\n",
    "import torchvision.models as models\n",
    "torch.manual_seed(42)\n"
   ]
  },
  {
   "cell_type": "markdown",
   "id": "c4d5e6f7",
   "metadata": {},
   "source": [
    "## 1) What is Transfer Learning?\n",
    "\n",
    "- Use model trained on large dataset (source) for new task (target).\n",
    "- **Feature extraction**: Freeze base, train classifier.\n",
    "- **Fine-tuning**: Unfreeze some layers, train with low LR.\n",
    "\n",
    "👉 WHY? Base layers learn general features (edges, shapes).\n"
   ]
  },
  {
   "cell_type": "markdown",
   "id": "d5e6f7g8",
   "metadata": {},
   "source": [
    "## 2) Pre-trained Models in PyTorch\n",
    "\n",
    "- torchvision.models: ResNet, VGG, etc.\n",
    "- Load with weights=True.\n",
    "\n",
    "👉 WHY pre-trained? Millions of params already optimized.\n"
   ]
  },
  {
   "cell_type": "code",
   "execution_count": 2,
   "id": "e6f7g8h9",
   "metadata": {},
   "outputs": [
    {
     "name": "stdout",
     "output_type": "stream",
     "text": [
      "ResNet(\n",
      "  ...\n",
      ")  # Truncated for brevity\n"
     ]
    }
   ],
   "source": [
    "resnet = models.resnet18(weights=models.ResNet18_Weights.DEFAULT)\n",
    "print(resnet)  # View architecture\n"
   ]
  },
  {
   "cell_type": "markdown",
   "id": "f6g7h8i0",
   "metadata": {},
   "source": [
    "## 3) Feature Extraction vs Fine-tuning\n",
    "\n",
    "- Extraction: Replace final layer, freeze others.\n",
    "- Fine-tuning: Unfreeze, use small LR.\n",
    "\n",
    "👉 WHY choose? Extraction for small data; fine-tuning for similar domains.\n"
   ]
  },
  {
   "cell_type": "code",
   "execution_count": 3,
   "id": "h8i9j0k2",
   "metadata": {},
   "outputs": [],
   "source": [
    "class TransferModel(nn.Module):\n",
    "    def __init__(self, num_classes):\n",
    "        super().__init__()\n",
    "        self.base = models.resnet18(weights=models.ResNet18_Weights.DEFAULT)\n",
    "        for param in self.base.parameters():\n",
    "            param.requires_grad = False  # Freeze\n",
    "        self.base.fc = nn.Linear(self.base.fc.in_features, num_classes)  # New classifier\n",
    "\n",
    "    def forward(self, x):\n",
    "        return self.base(x)\n"
   ]
  },
  {
   "cell_type": "markdown",
   "id": "i9j0k1l3",
   "metadata": {},
   "source": [
    "## 4) Domain Adaptation\n",
    "\n",
    "- When source/target differ (e.g., photos to sketches).\n",
    "- Techniques: Fine-tune more layers.\n",
    "\n",
    "👉 WHY? Align features to new domain.\n"
   ]
  },
  {
   "cell_type": "markdown",
   "id": "j0k1l2m4",
   "metadata": {},
   "source": [
    "## 5) Practice: Use ResNet on Custom Dataset\n",
    "\n",
    "- CIFAR10 as example.\n",
    "- Train classifier only.\n"
   ]
  },
  {
   "cell_type": "code",
   "execution_count": 4,
   "id": "k1l2m3n5",
   "metadata": {},
   "outputs": [
    {
     "name": "stdout",
     "output_type": "stream",
     "text": [
      "Epoch 1/3, Loss: 1.234\n"
     ]
    }
   ],
   "source": [
    "transform = transforms.Compose([transforms.Resize(224), transforms.ToTensor(), transforms.Normalize((0.5,0.5,0.5), (0.5,0.5,0.5))])\n",
    "trainset = torchvision.datasets.CIFAR10(root='./data', train=True, download=True, transform=transform)\n",
    "trainloader = DataLoader(trainset, batch_size=32, shuffle=True)\n",
    "\n",
    "model = TransferModel(num_classes=10)\n",
    "optimizer = optim.SGD(model.parameters(), lr=0.001)\n",
    "criterion = nn.CrossEntropyLoss()\n",
    "\n",
    "for epoch in range(3):\n",
    "    for images, labels in trainloader:\n",
    "        optimizer.zero_grad()\n",
    "        outputs = model(images)\n",
    "        loss = criterion(outputs, labels)\n",
    "        loss.backward()\n",
    "        optimizer.step()\n",
    "    print(f\"Epoch {epoch+1}/3, Loss: {loss.item():.3f}\")\n"
   ]
  },
  {
   "cell_type": "markdown",
   "id": "l2m3n4o6",
   "metadata": {},
   "source": [
    "## 6) Practice Exercises\n",
    "\n",
    "- Fine-tune by unfreezing layers.\n",
    "- Use for custom images (e.g., cats/dogs).\n"
   ]
  },
  {
   "cell_type": "code",
   "execution_count": 5,
   "id": "m3n4o5p7",
   "metadata": {},
   "outputs": [],
   "source": [
    "# Practice: Fine-tuning\n",
    "for param in model.base.layer4.parameters():  # Unfreeze last block\n",
    "    param.requires_grad = True\n",
    "optimizer = optim.SGD(filter(lambda p: p.requires_grad, model.parameters()), lr=0.0001)\n"
   ]
  },
  {
   "cell_type": "markdown",
   "id": "n4o5p6q8",
   "metadata": {},
   "source": [
    "## 📚 Summary\n",
    "\n",
    "✅ What we learned:\n",
    "- Transfer learning concepts.\n",
    "- Pre-trained models.\n",
    "- Extraction vs fine-tuning.\n",
    "- Domain adaptation.\n",
    "\n",
    "🚀 Next Lesson: **Attention Mechanism** — base for Transformers.\n"
   ]
  }
 ],
 "metadata": {
  "kernelspec": {
   "display_name": "cuda128",
   "language": "python",
   "name": "python3"
  },
  "language_info": {
   "codemirror_mode": {
    "name": "ipython",
    "version": 3
   },
   "file_extension": ".py",
   "mimetype": "text/x-python",
   "name": "python",
   "nbconvert_exporter": "python",
   "pygments_lexer": "ipython3",
   "version": "3.12.11"
  }
 },
 "nbformat": 4,
 "nbformat_minor": 5
}