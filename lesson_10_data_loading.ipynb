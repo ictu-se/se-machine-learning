{
 "cells": [
  {
   "cell_type": "markdown",
   "id": "a1b2c3d4",
   "metadata": {},
   "source": [
    "# 📘 Lesson 10 — Data Loading & Preprocessing: Preparing Real Datasets\n",
    "\n",
    "---\n",
    "\n",
    "### 🎯 Why this lesson matters\n",
    "Models are only as good as the data they learn from.  \n",
    "So far, we’ve used toy data — now we handle **real datasets** like images or text.  \n",
    "\n",
    "👉 PyTorch’s **Dataset** and **DataLoader** make loading efficient.  \n",
    "Preprocessing (augmentation, normalization) improves model performance.  \n",
    "\n",
    "This lesson teaches WHY clean data prevents overfitting and speeds training.\n"
   ]
  },
  {
   "cell_type": "code",
   "execution_count": 1,
   "id": "b3c4d5e6",
   "metadata": {},
   "outputs": [],
   "source": [
    "# Setup\n",
    "import torch\n",
    "from torch.utils.data import Dataset, DataLoader\n",
    "import torchvision\n",
    "import torchvision.transforms as transforms\n",
    "import numpy as np\n",
    "torch.manual_seed(42)\n"
   ]
  },
  {
   "cell_type": "markdown",
   "id": "c4d5e6f7",
   "metadata": {},
   "source": [
    "## 1) What is Dataset & DataLoader?\n",
    "\n",
    "- **Dataset**: Interface to access data (e.g., images + labels).\n",
    "- **DataLoader**: Wraps Dataset for batching, shuffling, parallel loading.\n",
    "\n",
    "👉 WHY? Manual loops are slow; DataLoader optimizes for GPU/CPU.\n"
   ]
  },
  {
   "cell_type": "code",
   "execution_count": 2,
   "id": "d5e6f7g8",
   "metadata": {},
   "outputs": [
    {
     "name": "stdout",
     "output_type": "stream",
     "text": [
      "Batch images shape: torch.Size([64, 1, 28, 28])\n",
      "Batch labels shape: torch.Size([64])\n"
     ]
    }
   ],
   "source": [
    "# MNIST example\n",
    "transform = transforms.ToTensor()\n",
    "dataset = torchvision.datasets.MNIST(root='./data', train=True, download=True, transform=transform)\n",
    "dataloader = DataLoader(dataset, batch_size=64, shuffle=True, num_workers=2)\n",
    "\n",
    "images, labels = next(iter(dataloader))\n",
    "print(\"Batch images shape:\", images.shape)  # [batch, channels, height, width]\n",
    "print(\"Batch labels shape:\", labels.shape)\n"
   ]
  },
  {
   "cell_type": "markdown",
   "id": "e6f7g8h9",
   "metadata": {},
   "source": [
    "## 2) Custom Dataset\n",
    "\n",
    "- Inherit Dataset, implement __len__ and __getitem__.\n",
    "\n",
    "👉 WHY custom? For your own data (CSV, folders).\n"
   ]
  },
  {
   "cell_type": "code",
   "execution_count": 3,
   "id": "f6g7h8i0",
   "metadata": {},
   "outputs": [
    {
     "name": "stdout",
     "output_type": "stream",
     "text": [
      "Data point: tensor(0.), Label: tensor(0.)\n"
     ]
    }
   ],
   "source": [
    "class CustomDataset(Dataset):\n",
    "    def __init__(self, data, labels):\n",
    "        self.data = data\n",
    "        self.labels = labels\n",
    "\n",
    "    def __len__(self):\n",
    "        return len(self.data)\n",
    "\n",
    "    def __getitem__(self, idx):\n",
    "        return self.data[idx], self.labels[idx]\n",
    "\n",
    "data = torch.rand(10)\n",
    "labels = torch.rand(10)\n",
    "custom_ds = CustomDataset(data, labels)\n",
    "print(\"Data point:\", custom_ds[0][0], \"Label:\", custom_ds[0][1])\n"
   ]
  },
  {
   "cell_type": "markdown",
   "id": "h8i9j0k2",
   "metadata": {},
   "source": [
    "## 3) Data Augmentation — More Variety\n",
    "\n",
    "- Random flips, rotations, crops to create \"new\" data.\n",
    "\n",
    "👉 WHY? Prevents overfitting, makes model robust.\n"
   ]
  },
  {
   "cell_type": "code",
   "execution_count": 4,
   "id": "i9j0k1l3",
   "metadata": {},
   "outputs": [],
   "source": [
    "aug_transform = transforms.Compose([\n",
    "    transforms.RandomHorizontalFlip(),\n",
    "    transforms.RandomRotation(10),\n",
    "    transforms.ToTensor(),\n",
    "    transforms.Normalize((0.5,), (0.5,))  # Mean, std\n",
    "])\n",
    "\n",
    "aug_dataset = torchvision.datasets.CIFAR10(root='./data', train=True, download=True, transform=aug_transform)\n"
   ]
  },
  {
   "cell_type": "markdown",
   "id": "j0k1l2m4",
   "metadata": {},
   "source": [
    "## 4) Normalization & Standardization\n",
    "\n",
    "- Scale data to mean=0, std=1.\n",
    "\n",
    "👉 WHY? Speeds convergence, prevents exploding gradients.\n"
   ]
  },
  {
   "cell_type": "code",
   "execution_count": 5,
   "id": "k1l2m3n5",
   "metadata": {},
   "outputs": [
    {
     "name": "stdout",
     "output_type": "stream",
     "text": [
      "Mean: tensor(0.5000), Std: tensor(0.5000)\n"
     ]
    }
   ],
   "source": [
    "norm_transform = transforms.Compose([\n",
    "    transforms.ToTensor(),\n",
    "    transforms.Normalize((0.5,), (0.5,))\n",
    "])\n",
    "\n",
    "norm_dataset = torchvision.datasets.MNIST(root='./data', train=True, download=True, transform=norm_transform)\n",
    "img, _ = norm_dataset[0]\n",
    "print(\"Mean:\", img.mean(), \"Std:\", img.std())\n"
   ]
  },
  {
   "cell_type": "markdown",
   "id": "l2m3n4o6",
   "metadata": {},
   "source": [
    "## 5) Practice Exercises\n",
    "\n",
    "- Create DataLoader for custom CSV data.\n",
    "- Apply transforms to your own images.\n"
   ]
  },
  {
   "cell_type": "code",
   "execution_count": 6,
   "id": "m3n4o5p7",
   "metadata": {},
   "outputs": [],
   "source": [
    "# Practice: Custom CSV Dataset\n",
    "import pandas as pd\n",
    "\n",
    "class CSVDataset(Dataset):\n",
    "    def __init__(self, csv_file):\n",
    "        self.data = pd.read_csv(csv_file)\n",
    "\n",
    "    def __len__(self):\n",
    "        return len(self.data)\n",
    "\n",
    "    def __getitem__(self, idx):\n",
    "        return torch.tensor(self.data.iloc[idx, :-1].values), torch.tensor(self.data.iloc[idx, -1])\n"
   ]
  },
  {
   "cell_type": "markdown",
   "id": "n4o5p6q8",
   "metadata": {},
   "source": [
    "## 📚 Summary\n",
    "\n",
    "✅ What we learned:\n",
    "- Dataset for data access.\n",
    "- DataLoader for efficient loading.\n",
    "- Augmentation for variety.\n",
    "- Normalization for stability.\n",
    "\n",
    "🚀 Next Lesson: **Training Loop & Validation** — monitoring model performance.\n"
   ]
  }
 ],
 "metadata": {
  "kernelspec": {
   "display_name": "cuda128",
   "language": "python",
   "name": "python3"
  },
  "language_info": {
   "codemirror_mode": {
    "name": "ipython",
    "version": 3
   },
   "file_extension": ".py",
   "mimetype": "text/x-python",
   "name": "python",
   "nbconvert_exporter": "python",
   "pygments_lexer": "ipython3",
   "version": "3.12.11"
  }
 },
 "nbformat": 4,
 "nbformat_minor": 5
}