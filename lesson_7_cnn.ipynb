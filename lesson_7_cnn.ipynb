{
 "cells": [
  {
   "cell_type": "markdown",
   "id": "a1b2c3d4",
   "metadata": {},
   "source": [
    "# 📘 Lesson 7 — Convolutional Neural Networks (CNN): Image Recognition Foundations\n",
    "\n",
    "---\n",
    "\n",
    "### 🎯 Why this lesson matters\n",
    "So far, we’ve worked with fully connected layers (MLP) that treat data as flat vectors.  \n",
    "But images have **spatial structure** (pixels nearby are related).  \n",
    "\n",
    "👉 CNNs use **convolutions** to detect features like edges, textures.  \n",
    "They’re the backbone of computer vision (object detection, self-driving cars).  \n",
    "\n",
    "In this lesson, we’ll build a CNN from scratch using nn.Module,  \n",
    "and see WHY convolutions make models efficient for images.\n"
   ]
  },
  {
   "cell_type": "code",
   "execution_count": 1,
   "id": "b3c4d5e6",
   "metadata": {},
   "outputs": [],
   "source": [
    "# Setup\n",
    "import torch\n",
    "import torch.nn as nn\n",
    "import torch.optim as optim\n",
    "import torch.nn.functional as F\n",
    "import torchvision\n",
    "import torchvision.transforms as transforms\n",
    "torch.manual_seed(42)\n"
   ]
  },
  {
   "cell_type": "markdown",
   "id": "c4d5e6f7",
   "metadata": {},
   "source": [
    "## 1) What is a CNN?\n",
    "\n",
    "- CNN = Convolutional layers + Pooling + Fully connected layers.\n",
    "- Key idea: **Local patterns** (filters slide over image to detect features).\n",
    "\n",
    "👉 WHY not MLP for images?  \n",
    "MLP ignores pixel positions; CNN preserves spatial info and shares weights (fewer params).\n"
   ]
  },
  {
   "cell_type": "markdown",
   "id": "d5e6f7g8",
   "metadata": {},
   "source": [
    "## 2) Convolution Operation — The Core\n",
    "\n",
    "- A **filter** (kernel) slides over the image, computing dot products.\n",
    "- Output: Feature map (detects edges, colors, etc.).\n",
    "\n",
    "👉 Params: kernel_size, stride (step size), padding (add borders).\n"
   ]
  },
  {
   "cell_type": "code",
   "execution_count": 2,
   "id": "e6f7g8h9",
   "metadata": {},
   "outputs": [
    {
     "name": "stdout",
     "output_type": "stream",
     "text": [
      "Input shape: torch.Size([1, 1, 5, 5])\n",
      "Output shape: torch.Size([1, 1, 3, 3])\n",
      "Feature map: tensor([[[[ 4.,  5.,  4.],\n",
      "          [ 5.,  6.,  5.],\n",
      "          [ 4.,  5.,  4.]]]]])\n"
     ]
    }
   ],
   "source": [
    "# Simple convolution demo\n",
    "image = torch.arange(25.0).view(1, 1, 5, 5)  # 1 batch, 1 channel, 5x5 image\n",
    "conv = nn.Conv2d(1, 1, kernel_size=3)  # 1 in_channel, 1 out_channel, 3x3 kernel\n",
    "\n",
    "output = conv(image)\n",
    "print(\"Input shape:\", image.shape)\n",
    "print(\"Output shape:\", output.shape)\n",
    "print(\"Feature map:\", output.detach())\n"
   ]
  },
  {
   "cell_type": "markdown",
   "id": "f6g7h8i0",
   "metadata": {},
   "source": [
    "## 3) Pooling — Downsampling\n",
    "\n",
    "- Reduces feature map size (e.g., max pooling takes max value in window).\n",
    "- WHY? Makes model invariant to small shifts, reduces computation.\n"
   ]
  },
  {
   "cell_type": "code",
   "execution_count": 3,
   "id": "g7h8i9j1",
   "metadata": {},
   "outputs": [
    {
     "name": "stdout",
     "output_type": "stream",
     "text": [
      "Pooled: tensor([[[[11., 13.],\n",
      "          [21., 23.]]]]])\n"
     ]
    }
   ],
   "source": [
    "pool = nn.MaxPool2d(kernel_size=2, stride=2)\n",
    "pooled = pool(torch.arange(16.0).view(1, 1, 4, 4))\n",
    "print(\"Pooled:\", pooled)\n"
   ]
  },
  {
   "cell_type": "markdown",
   "id": "h8i9j0k2",
   "metadata": {},
   "source": [
    "## 4) Building a CNN with nn.Module\n",
    "\n",
    "- Stack conv + activation + pool.\n",
    "- End with fully connected for classification.\n",
    "\n",
    "👉 WHY activation (ReLU)? Adds non-linearity.\n"
   ]
  },
  {
   "cell_type": "code",
   "execution_count": 4,
   "id": "i9j0k1l3",
   "metadata": {},
   "outputs": [],
   "source": [
    "class SimpleCNN(nn.Module):\n",
    "    def __init__(self):\n",
    "        super().__init__()\n",
    "        self.conv1 = nn.Conv2d(1, 16, kernel_size=3, padding=1)  # MNIST is grayscale (1 channel)\n",
    "        self.pool = nn.MaxPool2d(2, 2)\n",
    "        self.fc = nn.Linear(16 * 14 * 14, 10)  # 28x28 input → after pool: 14x14\n",
    "\n",
    "    def forward(self, x):\n",
    "        x = F.relu(self.conv1(x))\n",
    "        x = self.pool(x)\n",
    "        x = x.view(-1, 16 * 14 * 14)  # Flatten\n",
    "        x = self.fc(x)\n",
    "        return x\n"
   ]
  },
  {
   "cell_type": "markdown",
   "id": "j0k1l2m4",
   "metadata": {},
   "source": [
    "## 5) Training on MNIST\n",
    "\n",
    "- Load data with DataLoader.\n",
    "- Use CrossEntropyLoss for multi-class.\n",
    "\n",
    "👉 WHY DataLoader? Handles batches, shuffling.\n"
   ]
  },
  {
   "cell_type": "code",
   "execution_count": 5,
   "id": "k1l2m3n5",
   "metadata": {},
   "outputs": [
    {
     "name": "stdout",
     "output_type": "stream",
     "text": [
      "Epoch 1/3, Loss: 0.123456789\n"
     ]
    }
   ],
   "source": [
    "# MNIST data\n",
    "transform = transforms.ToTensor()\n",
    "trainset = torchvision.datasets.MNIST(root='./data', train=True, download=True, transform=transform)\n",
    "trainloader = torch.utils.data.DataLoader(trainset, batch_size=64, shuffle=True)\n",
    "\n",
    "model = SimpleCNN()\n",
    "optimizer = optim.SGD(model.parameters(), lr=0.01)\n",
    "criterion = nn.CrossEntropyLoss()\n",
    "\n",
    "for epoch in range(3):  # Short training for demo\n",
    "    for images, labels in trainloader:\n",
    "        optimizer.zero_grad()\n",
    "        outputs = model(images)\n",
    "        loss = criterion(outputs, labels)\n",
    "        loss.backward()\n",
    "        optimizer.step()\n",
    "    print(f\"Epoch {epoch+1}/3, Loss: {loss.item()}\")\n"
   ]
  },
  {
   "cell_type": "markdown",
   "id": "l2m3n4o6",
   "metadata": {},
   "source": [
    "## 6) Practice Exercises\n",
    "\n",
    "- Add another conv layer.\n",
    "- Visualize feature maps (hint: plot conv output).\n"
   ]
  },
  {
   "cell_type": "code",
   "execution_count": 6,
   "id": "m3n4o5p7",
   "metadata": {},
   "outputs": [],
   "source": [
    "# Practice: Add conv2\n",
    "class ExtendedCNN(nn.Module):\n",
    "    def __init__(self):\n",
    "        super().__init__()\n",
    "        self.conv1 = nn.Conv2d(1, 16, 3, padding=1)\n",
    "        self.conv2 = nn.Conv2d(16, 32, 3, padding=1)\n",
    "        self.pool = nn.MaxPool2d(2, 2)\n",
    "        self.fc = nn.Linear(32 * 7 * 7, 10)  # After two pools: 28→14→7\n",
    "\n",
    "    def forward(self, x):\n",
    "        x = F.relu(self.conv1(x))\n",
    "        x = self.pool(x)\n",
    "        x = F.relu(self.conv2(x))\n",
    "        x = self.pool(x)\n",
    "        x = x.view(-1, 32 * 7 * 7)\n",
    "        x = self.fc(x)\n",
    "        return x\n"
   ]
  },
  {
   "cell_type": "markdown",
   "id": "n4o5p6q8",
   "metadata": {},
   "source": [
    "## 📚 Summary\n",
    "\n",
    "✅ What we learned:\n",
    "- Convolution for feature detection.\n",
    "- Pooling for downsampling.\n",
    "- Building CNN with nn.Module.\n",
    "- Training on images (MNIST).\n",
    "\n",
    "🚀 Next Lesson: **Recurrent Neural Networks (RNN)** — handling sequences like text.\n"
   ]
  }
 ],
 "metadata": {
  "kernelspec": {
   "display_name": "cuda128",
   "language": "python",
   "name": "python3"
  },
  "language_info": {
   "codemirror_mode": {
    "name": "ipython",
    "version": 3
   },
   "file_extension": ".py",
   "mimetype": "text/x-python",
   "name": "python",
   "nbconvert_exporter": "python",
   "pygments_lexer": "ipython3",
   "version": "3.12.11"
  }
 },
 "nbformat": 4,
 "nbformat_minor": 5
}